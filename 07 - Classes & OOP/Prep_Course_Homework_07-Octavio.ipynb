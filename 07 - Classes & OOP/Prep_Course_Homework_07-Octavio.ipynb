{
 "cells": [
  {
   "cell_type": "markdown",
   "metadata": {},
   "source": [
    "## Clases y Programación Orientada a Objetos"
   ]
  },
  {
   "cell_type": "markdown",
   "metadata": {},
   "source": [
    "1) Crear la clase vehículo que contenga los atributos:<br>\n",
    "Color<br>\n",
    "Si es moto, auto, camioneta ó camión<br>\n",
    "Cilindrada del motor"
   ]
  },
  {
   "cell_type": "code",
   "execution_count": 1,
   "metadata": {},
   "outputs": [],
   "source": [
    "class Vehiculo:\n",
    "    def __init__(self,color, tipo, cilindrada):\n",
    "        self.color = color\n",
    "        self.tipo = tipo\n",
    "        self.cilindrada = cilindrada\n",
    "        "
   ]
  },
  {
   "cell_type": "markdown",
   "metadata": {},
   "source": [
    "2) A la clase Vehiculo creada en el punto 1, agregar los siguientes métodos:<br>\n",
    "Acelerar<br>\n",
    "Frenar<br>\n",
    "Doblar<br>"
   ]
  },
  {
   "cell_type": "code",
   "execution_count": 14,
   "metadata": {},
   "outputs": [],
   "source": [
    "class Vehiculo:\n",
    "    def __init__(self,color, tipo, cilindrada):\n",
    "        self.color = color\n",
    "        self.tipo = tipo\n",
    "        self.cilindrada = cilindrada\n",
    "        self.velocidad = 0\n",
    "        self.direccion = 0\n",
    "    \n",
    "    def acelerar(self,vel):\n",
    "        self.velocidad += 1\n",
    "    \n",
    "    def frenar(self,vel):\n",
    "        self.velocidad += 1\n",
    "\n",
    "    def doblar(self,grados):\n",
    "        self.direccion += grados\n",
    "        \n",
    "        \n",
    "\n"
   ]
  },
  {
   "cell_type": "markdown",
   "metadata": {},
   "source": [
    "3) Instanciar 3 objetos de la clase vehículo y ejecutar sus métodos, probar luego el resultado"
   ]
  },
  {
   "cell_type": "code",
   "execution_count": 15,
   "metadata": {},
   "outputs": [],
   "source": [
    "a1 = Vehiculo('rojo', 'auto', 2)\n",
    "a2 = Vehiculo('blanco', 'camioneta', 3.6)\n",
    "a3 = Vehiculo('negro', 'moto', 1)"
   ]
  },
  {
   "cell_type": "code",
   "execution_count": 19,
   "metadata": {},
   "outputs": [],
   "source": [
    "a1.acelerar(40)\n",
    "a2.acelerar(60)\n",
    "a3.acelerar(30)\n",
    "a1.doblar(30)\n",
    "a1.doblar(30)\n",
    "a1.doblar(-30)\n",
    "a3.doblar(30)\n",
    "a2.frenar(-50)"
   ]
  },
  {
   "cell_type": "markdown",
   "metadata": {},
   "source": [
    "4) Agregar a la clase Vehiculo, un método que muestre su estado, es decir, a que velocidad se encuentra y su dirección. Y otro método que muestre color, tipo y cilindrada"
   ]
  },
  {
   "cell_type": "code",
   "execution_count": 32,
   "metadata": {},
   "outputs": [],
   "source": [
    "class Vehiculo:\n",
    "    def __init__(self,color, tipo, cilindrada):\n",
    "        self.color = color\n",
    "        self.tipo = tipo\n",
    "        self.cilindrada = cilindrada\n",
    "        self.velocidad = 0\n",
    "        self.direccion = 0\n",
    "    \n",
    "    def acelerar(self,vel):\n",
    "        self.velocidad += vel\n",
    "    \n",
    "    def frenar(self,vel):\n",
    "        self.velocidad -= vel\n",
    "\n",
    "    def doblar(self,grados):\n",
    "        self.direccion += grados\n",
    "\n",
    "    def estado(self):\n",
    "        print (f\"Velocidad {self.velocidad}: Dirección {self.direccion}\")\n",
    "\n",
    "    def detalle(self):\n",
    "        print(f\"Soy {self.tipo} de color {self.color} y tengo una cilindrada de {self.cilindrada}L\")"
   ]
  },
  {
   "cell_type": "code",
   "execution_count": 33,
   "metadata": {},
   "outputs": [
    {
     "name": "stdout",
     "output_type": "stream",
     "text": [
      "Velocidad 45: Dirección 23\n",
      "Soy moto de color rojo y tengo una cilindrada de 1.3L\n"
     ]
    }
   ],
   "source": [
    "b1 =Vehiculo(\"rojo\",\"moto\",1.3)\n",
    "b1.acelerar(45)\n",
    "b1.doblar(23)\n",
    "b1.estado()\n",
    "b1.detalle()\n"
   ]
  },
  {
   "cell_type": "markdown",
   "metadata": {},
   "source": [
    "5) Crear una clase que permita utilizar las funciones creadas en la práctica del módulo 6<br>\n",
    "Verificar Primo<br>\n",
    "Valor modal<br>\n",
    "Conversión grados<br>\n",
    "Factorial<br>"
   ]
  },
  {
   "cell_type": "code",
   "execution_count": 46,
   "metadata": {},
   "outputs": [],
   "source": [
    "class Tools:\n",
    "    def __init__(self):\n",
    "        pass\n",
    "    \n",
    "    def ex_primo(self,a):\n",
    "        es_primo = True\n",
    "        if a == 1: return es_primo\n",
    "        for n in range(2,a):\n",
    "            if(a % n == 0):es_primo = False\n",
    "        return es_primo\n",
    "    \n",
    "    def valor_modal(self,lista_P):\n",
    "        dicc_conteo = {}\n",
    "        for n in lista_P:\n",
    "            if (len(dicc_conteo) == 0):\n",
    "                dicc_conteo[n] = 1\n",
    "                continue\n",
    "            if n in dicc_conteo:\n",
    "                dicc_conteo[n] += 1 \n",
    "            else:\n",
    "                dicc_conteo[n] = 1\n",
    "        moda = None \n",
    "        maximo = 0\n",
    "        for element in dicc_conteo:\n",
    "            if dicc_conteo[element] > maximo:\n",
    "                moda = element\n",
    "                maximo = dicc_conteo[element]\n",
    "        return moda, maximo\n",
    "    \n",
    "    def temperatura(self,valor,origen,destino):\n",
    "        valor_destino = 0\n",
    "        if(origen == \"celsius\"):\n",
    "            if destino == \"celsius\":\n",
    "                valor_destino = valor\n",
    "            elif destino == \"farenheit\":\n",
    "                valor_destino = (valor *(9/5))+32\n",
    "            elif destino == \"kelvin\":\n",
    "                valor_destino = valor + 273.15\n",
    "            else:\n",
    "                print('Parámetro de Destino incorrecto')\n",
    "        elif(origen == \"farenheit\"):\n",
    "            if destino == \"farenheit\":\n",
    "                valor_destino = valor\n",
    "            elif destino == \"celsius\":\n",
    "                valor_destino = (valor - 32) * 5 / 9\n",
    "            elif destino == \"kelvin\":\n",
    "                valor_destino = ((valor - 32) * 5 / 9) + 273.15\n",
    "            else:\n",
    "                print('Parámetro de Destino incorrecto')\n",
    "        elif (origen == 'kelvin'):\n",
    "            if (destino == 'celsius'):\n",
    "                valor_destino = valor - 273.15\n",
    "            elif (destino == 'farenheit'):\n",
    "                valor_destino = ((valor - 273.15) * 9 / 5) + 32\n",
    "            elif (destino == 'kelvin'):\n",
    "                valor_destino = valor\n",
    "            else:\n",
    "                print('Parámetro de Destino incorrecto')\n",
    "        else:\n",
    "            print('Parámetro de Origen incorrecto')\n",
    "        return valor_destino\n",
    "\n",
    "    def factorial(self,numero):\n",
    "        '''\n",
    "        Devuelve el factorial\n",
    "        '''\n",
    "        if(type(numero) != int):\n",
    "            return \"Debe ser un numero entero\"\n",
    "        if(numero < 0):\n",
    "            return \"Debe ser un numero positivo\"\n",
    "        if (numero > 1):\n",
    "            numero = numero * self.factorial(numero - 1)\n",
    "        return numero\n"
   ]
  },
  {
   "cell_type": "code",
   "execution_count": 49,
   "metadata": {},
   "outputs": [],
   "source": [
    "h =  Tools()\n"
   ]
  },
  {
   "cell_type": "markdown",
   "metadata": {},
   "source": [
    "6) Probar las funciones incorporadas en la clase del punto 5"
   ]
  },
  {
   "cell_type": "code",
   "execution_count": 50,
   "metadata": {},
   "outputs": [
    {
     "name": "stdout",
     "output_type": "stream",
     "text": [
      "El valor modal es 3 y se reptie 10 veces\n"
     ]
    }
   ],
   "source": [
    "lis = [1,1,2,3,45,5,5,6,4333,2,2,1,5,68,8,9,8,6,43,3,3,5,4,3,3,3,3,3,3,3]\n",
    "moda, repe = h.valor_modal(lis)\n",
    "print('El valor modal es', moda, 'y se reptie', repe, 'veces')\n"
   ]
  },
  {
   "cell_type": "code",
   "execution_count": 41,
   "metadata": {},
   "outputs": [
    {
     "data": {
      "text/plain": [
       "True"
      ]
     },
     "execution_count": 41,
     "metadata": {},
     "output_type": "execute_result"
    }
   ],
   "source": [
    "h.ex_primo(11)"
   ]
  },
  {
   "cell_type": "code",
   "execution_count": 44,
   "metadata": {},
   "outputs": [
    {
     "data": {
      "text/plain": [
       "283.15"
      ]
     },
     "execution_count": 44,
     "metadata": {},
     "output_type": "execute_result"
    }
   ],
   "source": [
    "h.temperatura(10,\"celsius\",'kelvin')"
   ]
  },
  {
   "cell_type": "code",
   "execution_count": 51,
   "metadata": {},
   "outputs": [
    {
     "data": {
      "text/plain": [
       "720"
      ]
     },
     "execution_count": 51,
     "metadata": {},
     "output_type": "execute_result"
    }
   ],
   "source": [
    "h.factorial(6)"
   ]
  },
  {
   "cell_type": "markdown",
   "metadata": {},
   "source": [
    "7) Es necesario que la clase creada en el punto 5 contenga una lista, sobre la cual se aplquen las funciones incorporadas"
   ]
  },
  {
   "cell_type": "code",
   "execution_count": 111,
   "metadata": {},
   "outputs": [],
   "source": [
    "class Tools_lista:\n",
    "    def __init__(self, lista_numeros):\n",
    "        self.lista_numeros = lista_numeros\n",
    "    \n",
    "    def ex_primo(self):\n",
    "        for a in self.lista_numeros:\n",
    "            es_primo = True\n",
    "            if a == 1: \n",
    "                print (\"El numero 1 es primo\")\n",
    "            for n in range(2,a):\n",
    "                if(a % n == 0):es_primo = False\n",
    "            if es_primo == True:\n",
    "                print (f\"El numero {a} es primo\")\n",
    "            else:\n",
    "                print (f\"El numero {a} no es primo\")\n",
    "\n",
    "    def __ex_primo(self,a):\n",
    "        es_primo = True\n",
    "        if a == 1: return es_primo\n",
    "        for n in range(2,a):\n",
    "            if(a % n == 0):es_primo = False\n",
    "        return es_primo\n",
    "    \n",
    "    def valor_modal(self):\n",
    "        lista_P = self.lista_numeros\n",
    "        dicc_conteo = {}\n",
    "        for n in lista_P:\n",
    "            if (len(dicc_conteo) == 0):\n",
    "                dicc_conteo[n] = 1\n",
    "                continue\n",
    "            if n in dicc_conteo:\n",
    "                dicc_conteo[n] += 1 \n",
    "            else:\n",
    "                dicc_conteo[n] = 1\n",
    "        moda = None \n",
    "        maximo = 0\n",
    "        for element in dicc_conteo:\n",
    "            if dicc_conteo[element] > maximo:\n",
    "                moda = element\n",
    "                maximo = dicc_conteo[element]\n",
    "        return moda, maximo\n",
    "\n",
    "    def __valor_modal(self,lista_P):\n",
    "        dicc_conteo = {}\n",
    "        for n in lista_P:\n",
    "            if (len(dicc_conteo) == 0):\n",
    "                dicc_conteo[n] = 1\n",
    "                continue\n",
    "            if n in dicc_conteo:\n",
    "                dicc_conteo[n] += 1 \n",
    "            else:\n",
    "                dicc_conteo[n] = 1\n",
    "        moda = None \n",
    "        maximo = 0\n",
    "        for element in dicc_conteo:\n",
    "            if dicc_conteo[element] > maximo:\n",
    "                moda = element\n",
    "                maximo = dicc_conteo[element]\n",
    "        return moda, maximo\n",
    "    \n",
    "    def temperatura(self,origen,destino):\n",
    "        for valor in self.lista_numeros:\n",
    "            valor_destino = 0\n",
    "            if(origen == \"celsius\"):\n",
    "                if destino == \"celsius\":\n",
    "                    valor_destino = valor\n",
    "                elif destino == \"farenheit\":\n",
    "                    valor_destino = (valor *(9/5))+32\n",
    "                elif destino == \"kelvin\":\n",
    "                    valor_destino = valor + 273.15\n",
    "                else:\n",
    "                    print('Parámetro de Destino incorrecto')\n",
    "            elif(origen == \"farenheit\"):\n",
    "                if destino == \"farenheit\":\n",
    "                    valor_destino = valor\n",
    "                elif destino == \"celsius\":\n",
    "                    valor_destino = (valor - 32) * 5 / 9\n",
    "                elif destino == \"kelvin\":\n",
    "                    valor_destino = ((valor - 32) * 5 / 9) + 273.15\n",
    "                else:\n",
    "                    print('Parámetro de Destino incorrecto')\n",
    "            elif (origen == 'kelvin'):\n",
    "                if (destino == 'celsius'):\n",
    "                    valor_destino = valor - 273.15\n",
    "                elif (destino == 'farenheit'):\n",
    "                    valor_destino = ((valor - 273.15) * 9 / 5) + 32\n",
    "                elif (destino == 'kelvin'):\n",
    "                    valor_destino = valor\n",
    "                else:\n",
    "                    print('Parámetro de Destino incorrecto')\n",
    "            else:\n",
    "                print('Parámetro de Origen incorrecto')\n",
    "            print(f\"{valor} grados {origen}, en {destino} son {valor_destino}\")\n",
    "\n",
    "    def __temperatura(self,valor,origen,destino):\n",
    "        valor_destino = 0\n",
    "        if(origen == \"celsius\"):\n",
    "            if destino == \"celsius\":\n",
    "                valor_destino = valor\n",
    "            elif destino == \"farenheit\":\n",
    "                valor_destino = (valor *(9/5))+32\n",
    "            elif destino == \"kelvin\":\n",
    "                valor_destino = valor + 273.15\n",
    "            else:\n",
    "                print('Parámetro de Destino incorrecto')\n",
    "        elif(origen == \"farenheit\"):\n",
    "            if destino == \"farenheit\":\n",
    "                valor_destino = valor\n",
    "            elif destino == \"celsius\":\n",
    "                valor_destino = (valor - 32) * 5 / 9\n",
    "            elif destino == \"kelvin\":\n",
    "                valor_destino = ((valor - 32) * 5 / 9) + 273.15\n",
    "            else:\n",
    "                print('Parámetro de Destino incorrecto')\n",
    "        elif (origen == 'kelvin'):\n",
    "            if (destino == 'celsius'):\n",
    "                valor_destino = valor - 273.15\n",
    "            elif (destino == 'farenheit'):\n",
    "                valor_destino = ((valor - 273.15) * 9 / 5) + 32\n",
    "            elif (destino == 'kelvin'):\n",
    "                valor_destino = valor\n",
    "            else:\n",
    "                print('Parámetro de Destino incorrecto')\n",
    "        else:\n",
    "            print('Parámetro de Origen incorrecto')\n",
    "        return valor_destino\n",
    "\n",
    "    def factorial(self):\n",
    "        '''\n",
    "        Devuelve el factorial\n",
    "        '''\n",
    "        for i in self.lista_numeros:\n",
    "            print (f'El factrorial de {i} es {self.__factorial(i)}')\n",
    "\n",
    "\n",
    "    def __factorial(self,numero):\n",
    "        '''\n",
    "        Devuelve el factorial\n",
    "        '''\n",
    "        if(type(numero) != int):\n",
    "            return \"Debe ser un numero entero\"\n",
    "        if(numero < 0):\n",
    "            return \"Debe ser un numero positivo\"\n",
    "        if (numero > 1):\n",
    "            numero = numero * self.__factorial(numero - 1)\n",
    "        return numero"
   ]
  },
  {
   "cell_type": "code",
   "execution_count": 72,
   "metadata": {},
   "outputs": [],
   "source": [
    "lis2 = [1,1,2,5,8,8,9,11,15,16,16,16,18,20]\n"
   ]
  },
  {
   "cell_type": "code",
   "execution_count": 112,
   "metadata": {},
   "outputs": [],
   "source": [
    "tl = Tools_lista([1,1,2,5,8,8,9,11,15,16,16,16,18,20])"
   ]
  },
  {
   "cell_type": "code",
   "execution_count": 113,
   "metadata": {},
   "outputs": [
    {
     "name": "stdout",
     "output_type": "stream",
     "text": [
      "El factrorial de 1 es 1\n",
      "El factrorial de 1 es 1\n",
      "El factrorial de 2 es 2\n",
      "El factrorial de 5 es 120\n",
      "El factrorial de 8 es 40320\n",
      "El factrorial de 8 es 40320\n",
      "El factrorial de 9 es 362880\n",
      "El factrorial de 11 es 39916800\n",
      "El factrorial de 15 es 1307674368000\n",
      "El factrorial de 16 es 20922789888000\n",
      "El factrorial de 16 es 20922789888000\n",
      "El factrorial de 16 es 20922789888000\n",
      "El factrorial de 18 es 6402373705728000\n",
      "El factrorial de 20 es 2432902008176640000\n"
     ]
    }
   ],
   "source": [
    "tl.factorial()"
   ]
  },
  {
   "cell_type": "code",
   "execution_count": 114,
   "metadata": {},
   "outputs": [
    {
     "data": {
      "text/plain": [
       "(16, 3)"
      ]
     },
     "execution_count": 114,
     "metadata": {},
     "output_type": "execute_result"
    }
   ],
   "source": [
    "tl.valor_modal()"
   ]
  },
  {
   "cell_type": "code",
   "execution_count": 116,
   "metadata": {},
   "outputs": [
    {
     "name": "stdout",
     "output_type": "stream",
     "text": [
      "1 grados celsius, en kelvin son 274.15\n",
      "1 grados celsius, en kelvin son 274.15\n",
      "2 grados celsius, en kelvin son 275.15\n",
      "5 grados celsius, en kelvin son 278.15\n",
      "8 grados celsius, en kelvin son 281.15\n",
      "8 grados celsius, en kelvin son 281.15\n",
      "9 grados celsius, en kelvin son 282.15\n",
      "11 grados celsius, en kelvin son 284.15\n",
      "15 grados celsius, en kelvin son 288.15\n",
      "16 grados celsius, en kelvin son 289.15\n",
      "16 grados celsius, en kelvin son 289.15\n",
      "16 grados celsius, en kelvin son 289.15\n",
      "18 grados celsius, en kelvin son 291.15\n",
      "20 grados celsius, en kelvin son 293.15\n"
     ]
    }
   ],
   "source": [
    "tl.temperatura('celsius', 'kelvin')"
   ]
  },
  {
   "cell_type": "markdown",
   "metadata": {},
   "source": [
    "8) Crear un archivo .py aparte y ubicar allí la clase generada en el punto anterior. Luego realizar la importación del módulo y probar alguna de sus funciones"
   ]
  },
  {
   "cell_type": "code",
   "execution_count": 118,
   "metadata": {},
   "outputs": [
    {
     "name": "stdout",
     "output_type": "stream",
     "text": [
      "['c:\\\\Users\\\\octav\\\\OneDrive\\\\Documentos\\\\Henry\\\\Python-Prep\\\\07 - Classes & OOP', 'c:\\\\Users\\\\octav\\\\AppData\\\\Local\\\\Programs\\\\Python\\\\Python310\\\\python310.zip', 'c:\\\\Users\\\\octav\\\\AppData\\\\Local\\\\Programs\\\\Python\\\\Python310\\\\DLLs', 'c:\\\\Users\\\\octav\\\\AppData\\\\Local\\\\Programs\\\\Python\\\\Python310\\\\lib', 'c:\\\\Users\\\\octav\\\\AppData\\\\Local\\\\Programs\\\\Python\\\\Python310', '', 'C:\\\\Users\\\\octav\\\\AppData\\\\Roaming\\\\Python\\\\Python310\\\\site-packages', 'C:\\\\Users\\\\octav\\\\AppData\\\\Roaming\\\\Python\\\\Python310\\\\site-packages\\\\win32', 'C:\\\\Users\\\\octav\\\\AppData\\\\Roaming\\\\Python\\\\Python310\\\\site-packages\\\\win32\\\\lib', 'C:\\\\Users\\\\octav\\\\AppData\\\\Roaming\\\\Python\\\\Python310\\\\site-packages\\\\Pythonwin', 'c:\\\\Users\\\\octav\\\\AppData\\\\Local\\\\Programs\\\\Python\\\\Python310\\\\lib\\\\site-packages']\n"
     ]
    }
   ],
   "source": [
    "import sys\n",
    "print(sys.path)\n",
    "\n"
   ]
  },
  {
   "cell_type": "code",
   "execution_count": 123,
   "metadata": {},
   "outputs": [
    {
     "name": "stdout",
     "output_type": "stream",
     "text": [
      "['c:\\\\Users\\\\octav\\\\OneDrive\\\\Documentos\\\\Henry\\\\Python-Prep\\\\07 - Classes & OOP', 'c:\\\\Users\\\\octav\\\\AppData\\\\Local\\\\Programs\\\\Python\\\\Python310\\\\python310.zip', 'c:\\\\Users\\\\octav\\\\AppData\\\\Local\\\\Programs\\\\Python\\\\Python310\\\\DLLs', 'c:\\\\Users\\\\octav\\\\AppData\\\\Local\\\\Programs\\\\Python\\\\Python310\\\\lib', 'c:\\\\Users\\\\octav\\\\AppData\\\\Local\\\\Programs\\\\Python\\\\Python310', '', 'C:\\\\Users\\\\octav\\\\AppData\\\\Roaming\\\\Python\\\\Python310\\\\site-packages', 'C:\\\\Users\\\\octav\\\\AppData\\\\Roaming\\\\Python\\\\Python310\\\\site-packages\\\\win32', 'C:\\\\Users\\\\octav\\\\AppData\\\\Roaming\\\\Python\\\\Python310\\\\site-packages\\\\win32\\\\lib', 'C:\\\\Users\\\\octav\\\\AppData\\\\Roaming\\\\Python\\\\Python310\\\\site-packages\\\\Pythonwin', 'c:\\\\Users\\\\octav\\\\AppData\\\\Local\\\\Programs\\\\Python\\\\Python310\\\\lib\\\\site-packages', 'C:\\\\Users\\\\octav\\\\OneDrive\\\\Documentos\\\\Henry\\\\Python-Prep\\\\07 - Classes & OOP\\\\srcMods', 'C:\\\\Users\\\\octav\\\\OneDrive\\\\Documentos\\\\Henry\\\\Python-Prep\\\\07 - Classes & OOP\\\\srcMods', 'C:\\\\Users\\\\octav\\\\OneDrive\\\\Documentos\\\\Henry\\\\Python-Prep\\\\07 - Classes & OOP\\\\srcMods']\n"
     ]
    }
   ],
   "source": [
    "import sys\n",
    "sys.path.append(r'C:\\Users\\octav\\OneDrive\\Documentos\\Henry\\Python-Prep\\07 - Classes & OOP\\srcMods')\n",
    "print(sys.path)"
   ]
  },
  {
   "cell_type": "code",
   "execution_count": 127,
   "metadata": {},
   "outputs": [],
   "source": [
    "import octaTools"
   ]
  },
  {
   "cell_type": "code",
   "execution_count": 128,
   "metadata": {},
   "outputs": [],
   "source": [
    "t2 = hexatools([1,1,2,3,5,6,8,8])\n"
   ]
  },
  {
   "cell_type": "code",
   "execution_count": 129,
   "metadata": {},
   "outputs": [
    {
     "name": "stdout",
     "output_type": "stream",
     "text": [
      "El numero 1 es primo\n",
      "El numero 1 es primo\n",
      "El numero 1 es primo\n",
      "El numero 1 es primo\n",
      "El numero 2 es primo\n",
      "El numero 3 es primo\n",
      "El numero 5 es primo\n",
      "El numero 6 no es primo\n",
      "El numero 8 no es primo\n",
      "El numero 8 no es primo\n"
     ]
    }
   ],
   "source": [
    "t2.ex_primo()"
   ]
  }
 ],
 "metadata": {
  "kernelspec": {
   "display_name": "Python 3.10.8 64-bit",
   "language": "python",
   "name": "python3"
  },
  "language_info": {
   "codemirror_mode": {
    "name": "ipython",
    "version": 3
   },
   "file_extension": ".py",
   "mimetype": "text/x-python",
   "name": "python",
   "nbconvert_exporter": "python",
   "pygments_lexer": "ipython3",
   "version": "3.10.8"
  },
  "vscode": {
   "interpreter": {
    "hash": "964b1fa5364468aa142ca826e1bab4686480a96d9d38c308c84d42c2ef7b8b78"
   }
  }
 },
 "nbformat": 4,
 "nbformat_minor": 4
}
