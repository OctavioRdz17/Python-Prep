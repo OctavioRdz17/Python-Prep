{
 "cells": [
  {
   "cell_type": "markdown",
   "metadata": {},
   "source": [
    "## Entrada / Salida"
   ]
  },
  {
   "cell_type": "markdown",
   "metadata": {},
   "source": [
    "1) Crear un script con el nombre \"clase09_ej1.py\" que reciba 3 parametros a elección, verificando que sean exactamente esa cantidad, y muestre como salida los parámetros recibidos"
   ]
  },
  {
   "cell_type": "code",
   "execution_count": null,
   "metadata": {},
   "outputs": [],
   "source": [
    "import os\n",
    "os.system('python .\\clase09_ej1_oct.py Hola 5')"
   ]
  },
  {
   "cell_type": "code",
   "execution_count": null,
   "metadata": {},
   "outputs": [],
   "source": [
    "import sys\n",
    "# Comprobación de seguridad, ejecutar sólo si se reciben 2# argumentos realemente\n",
    "if len(sys.argv) == 3:\n",
    "    texto = sys.argv[1]\n",
    "    repeticiones = int(sys.argv[2])\n",
    "    for r in range(repeticiones):\n",
    "        print(texto)\n",
    "else:\n",
    "    print(\"ERROR: Introdujo uno (1) o más de dos (2) argumentos\")\n",
    "    print(\"SOLUCIÓN: Introduce los argumentos correctamente\")\n",
    "    print('Ejemplo: ejemplo_parametros.py \"Texto\" 5')\n",
    "# print(\"El argumento 0 es el nombre del archivo:\", sys.argv[0])"
   ]
  },
  {
   "cell_type": "markdown",
   "metadata": {},
   "source": [
    "2) Crear un script con el nombre \"clase09_ej2.py2\" que reciba como un valor de temperatura en grados centígrados, un valor de humedad y por último si llovio (Con True o False). Y que cada vez que sea invocado, cargue en el archivo provisto \"clase09_ej2.csv\" una marca de tiempo y esa información."
   ]
  },
  {
   "cell_type": "markdown",
   "metadata": {},
   "source": [
    "Para trabajar con tipos de datos relacionados con la medición del tiempo, como ser fechas, horarios o marcas de tiempo se puede utilizar la clase *datetime*"
   ]
  },
  {
   "cell_type": "code",
   "execution_count": null,
   "metadata": {},
   "outputs": [],
   "source": [
    "import sys, datetime, os\n",
    "\n",
    "if len(sys.argv) != 4:\n",
    "    print(\"ERROR: Se esperan tres (3) argumentos para funcionar\")\n",
    "    print(\"SOLUCIÓN: Introduce los argumentos correctamente\")\n",
    "    print('Ejemplo: clase09_ej1.py <temperatura> <humedad> <True o False>')\n",
    "else:\n",
    "    temperatura = sys.argv[1] \n",
    "    humedad     = sys.argv[2] \n",
    "    lluvia      = sys.argv[3] \n",
    "\n",
    "    # Import datetime nos ayuda para obtener las fechas \n",
    "    marca_de_tiempo = datetime.datetime.now() # recolecta el instante\n",
    "    marca_de_tiempo = int(datetime.datetime.timestamp(marca_de_tiempo)) #  lo pasa a numero entero \n",
    "\n",
    "    # Se crea la linea a insertar en el archivo\n",
    "    linea = str(marca_de_tiempo) + ',' + temperatura + ',' + humedad + ',' + lluvia\n",
    "\n",
    "    # comandos para escribir \n",
    "    logs_lluvia = open('clase09_ej2_oct.csv', 'a') #con a crea el archivo si no existe y puede escribir\n",
    "    logs_lluvia.write(linea+'\\n')\n",
    "    logs_lluvia.close()"
   ]
  },
  {
   "cell_type": "code",
   "execution_count": null,
   "metadata": {},
   "outputs": [],
   "source": []
  },
  {
   "cell_type": "code",
   "execution_count": null,
   "metadata": {},
   "outputs": [],
   "source": []
  },
  {
   "cell_type": "markdown",
   "metadata": {},
   "source": [
    "3) Crear un archivo a partir de los datos presentes en el diccionario provisto. El cual debe contener en la primera fila el nombre de las claves y luego cada línea los elementos i-ésimos de las listas de valores contiguos y separados por coma ','. Este archivo debe llamarse clase09_ej3.csv"
   ]
  },
  {
   "cell_type": "code",
   "execution_count": 19,
   "metadata": {},
   "outputs": [],
   "source": [
    "montanas = {'nombre':[  'Everest','K2','Kanchenjunga','Lhotse','Makalu',\n",
    "                        'Cho Oyu','Dhaulagiri','Manaslu','Nanga Parbat','Annapurna I'],\n",
    "            'orden':[1,2,3,4,5,6,7,8,9,10],\n",
    "            'cordillera':['Himalaya','Karakórum','Himalaya','Himalaya','Himalaya'\n",
    "                        ,'Himalaya','Himalaya','Himalaya','Karakórum','Himalaya'],\n",
    "            'pais': ['Nepal','Pakistán','Nepal','Nepal','Nepal','Nepal','Nepal','Nepal',\n",
    "                    'Pakistán','Nepal'],\n",
    "            'altura':[8849,8611,8586,8516,8485,8188,8167,8163,8125,8091]}"
   ]
  },
  {
   "cell_type": "code",
   "execution_count": null,
   "metadata": {},
   "outputs": [],
   "source": [
    "import sys, os"
   ]
  },
  {
   "cell_type": "code",
   "execution_count": 27,
   "metadata": {},
   "outputs": [
    {
     "name": "stdout",
     "output_type": "stream",
     "text": [
      "Nombre,Orden,Cordillera,Pais,Altura\n",
      "\n"
     ]
    }
   ],
   "source": [
    "header_montana = str()\n",
    "for h in montanas.keys():\n",
    "    if h != 'altura':\n",
    "        header_montana = str(header_montana) + str(h).capitalize() + ','\n",
    "    else:\n",
    "        header_montana = str(header_montana) + str(h).capitalize() + '\\n'\n",
    "\n",
    "print(header_montana)\n"
   ]
  },
  {
   "cell_type": "code",
   "execution_count": 39,
   "metadata": {},
   "outputs": [
    {
     "data": {
      "text/plain": [
       "36"
      ]
     },
     "execution_count": 39,
     "metadata": {},
     "output_type": "execute_result"
    }
   ],
   "source": [
    "montana_csv = open('clase09_ej3_oct.csv', 'w')\n",
    "montana_csv.write(header_montana)\n",
    "# montana_csv.close()\n"
   ]
  },
  {
   "cell_type": "code",
   "execution_count": 43,
   "metadata": {},
   "outputs": [
    {
     "name": "stdout",
     "output_type": "stream",
     "text": [
      "Everest,1,Himalaya,Nepal,8849\n",
      "\n",
      "K2,2,Karakórum,Pakistán,8611\n",
      "\n",
      "Kanchenjunga,3,Himalaya,Nepal,8586\n",
      "\n",
      "Lhotse,4,Himalaya,Nepal,8516\n",
      "\n",
      "Makalu,5,Himalaya,Nepal,8485\n",
      "\n",
      "Cho Oyu,6,Himalaya,Nepal,8188\n",
      "\n",
      "Dhaulagiri,7,Himalaya,Nepal,8167\n",
      "\n",
      "Manaslu,8,Himalaya,Nepal,8163\n",
      "\n",
      "Nanga Parbat,9,Karakórum,Pakistán,8125\n",
      "\n",
      "Annapurna I,10,Himalaya,Nepal,8091\n",
      "\n"
     ]
    }
   ],
   "source": [
    "r = 0\n",
    "line_m = str()\n",
    "while r < len(montanas['nombre']):\n",
    "    line_m = str(montanas['nombre'][r]) +',' +str(montanas['orden'][r]) +','+str(montanas['cordillera'][r])+',' +str(montanas['pais'][r])+',' +str(montanas['altura'][r])+'\\n'\n",
    "    montana_csv.write(line_m)\n",
    "    print(line_m)\n",
    "    r += 1\n",
    "montana_csv.close()\n"
   ]
  },
  {
   "cell_type": "markdown",
   "metadata": {},
   "source": [
    "4) Mostrar el tamaño en MB del archivo generado en el punto 3"
   ]
  },
  {
   "cell_type": "code",
   "execution_count": 44,
   "metadata": {},
   "outputs": [
    {
     "data": {
      "text/plain": [
       "366"
      ]
     },
     "execution_count": 44,
     "metadata": {},
     "output_type": "execute_result"
    }
   ],
   "source": [
    "os.path.getsize(\"clase09_ej3_oct.csv\")"
   ]
  },
  {
   "cell_type": "markdown",
   "metadata": {},
   "source": [
    "5) Crear una carpeta llamada clase09_montañas_altas"
   ]
  },
  {
   "cell_type": "code",
   "execution_count": 45,
   "metadata": {},
   "outputs": [],
   "source": [
    "os.makedirs(\"Mi_Carpeta_oct\")"
   ]
  },
  {
   "cell_type": "markdown",
   "metadata": {},
   "source": [
    "6) Copiar el archivo clase09_ej3.scv en la carpeta clase09_montañas_altas usando la sentencia **os.system**"
   ]
  },
  {
   "cell_type": "code",
   "execution_count": 47,
   "metadata": {},
   "outputs": [
    {
     "data": {
      "text/plain": [
       "0"
      ]
     },
     "execution_count": 47,
     "metadata": {},
     "output_type": "execute_result"
    }
   ],
   "source": [
    "os.system('copy clase09_ej3_oct.csv clase09_montañas_altas')"
   ]
  },
  {
   "cell_type": "markdown",
   "metadata": {},
   "source": [
    "7) Listar el contenido de la carpeta clase09_montañas_altas"
   ]
  },
  {
   "cell_type": "code",
   "execution_count": 48,
   "metadata": {},
   "outputs": [
    {
     "data": {
      "text/plain": [
       "['clase09_ej3.csv', 'clase09_ej3_oct.csv']"
      ]
     },
     "execution_count": 48,
     "metadata": {},
     "output_type": "execute_result"
    }
   ],
   "source": [
    "os.listdir('./clase09_montañas_altas')"
   ]
  }
 ],
 "metadata": {
  "kernelspec": {
   "display_name": "Python 3.10.8 64-bit",
   "language": "python",
   "name": "python3"
  },
  "language_info": {
   "codemirror_mode": {
    "name": "ipython",
    "version": 3
   },
   "file_extension": ".py",
   "mimetype": "text/x-python",
   "name": "python",
   "nbconvert_exporter": "python",
   "pygments_lexer": "ipython3",
   "version": "3.10.8"
  },
  "vscode": {
   "interpreter": {
    "hash": "964b1fa5364468aa142ca826e1bab4686480a96d9d38c308c84d42c2ef7b8b78"
   }
  }
 },
 "nbformat": 4,
 "nbformat_minor": 4
}
