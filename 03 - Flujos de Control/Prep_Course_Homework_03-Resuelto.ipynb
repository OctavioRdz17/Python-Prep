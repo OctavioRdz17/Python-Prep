{
 "cells": [
  {
   "cell_type": "markdown",
   "metadata": {},
   "source": [
    "## Flujos de Control"
   ]
  },
  {
   "cell_type": "markdown",
   "metadata": {},
   "source": [
    "1) Crear una variable que contenga un elemento del conjunto de números enteros y luego imprimir por pantalla si es mayor o menor a cero"
   ]
  },
  {
   "cell_type": "code",
   "execution_count": null,
   "metadata": {},
   "outputs": [
    {
     "name": "stdout",
     "output_type": "stream",
     "text": [
      "La varaible es mayor a cero\n"
     ]
    }
   ],
   "source": [
    "a = 10\n",
    "if (a < 0):\n",
    "    print('La variable es menor a cero')\n",
    "elif (a > 0): \n",
    "    print('La varaible es mayor a cero')\n",
    "else:\n",
    "    print('La variable es igual a cero')"
   ]
  },
  {
   "cell_type": "markdown",
   "metadata": {},
   "source": [
    "2) Crear dos variables y un condicional que informe si son del mismo tipo de dato"
   ]
  },
  {
   "cell_type": "code",
   "execution_count": null,
   "metadata": {},
   "outputs": [
    {
     "name": "stdout",
     "output_type": "stream",
     "text": [
      "no son el mimo tipo de dato\n"
     ]
    }
   ],
   "source": [
    "t1 = 2\n",
    "t2 = 'a'\n",
    "if (type(t1) == type(t2)):\n",
    "  print(\"Son el mismo tipo de dato\")\n",
    "else:\n",
    "  print(\"no son el mismo tipo de dato\")"
   ]
  },
  {
   "cell_type": "markdown",
   "metadata": {},
   "source": [
    "3) Para los valores enteros del 1 al 20, imprimir por pantalla si es par o impar"
   ]
  },
  {
   "cell_type": "code",
   "execution_count": null,
   "metadata": {},
   "outputs": [
    {
     "name": "stdout",
     "output_type": "stream",
     "text": [
      "1 es un numero impar\n",
      "2 es un numero par\n",
      "3 es un numero impar\n",
      "4 es un numero par\n",
      "5 es un numero impar\n",
      "6 es un numero par\n",
      "7 es un numero impar\n",
      "8 es un numero par\n",
      "9 es un numero impar\n",
      "10 es un numero par\n",
      "11 es un numero impar\n",
      "12 es un numero par\n",
      "13 es un numero impar\n",
      "14 es un numero par\n",
      "15 es un numero impar\n",
      "16 es un numero par\n",
      "17 es un numero impar\n",
      "18 es un numero par\n",
      "19 es un numero impar\n",
      "20 es un numero par\n"
     ]
    }
   ],
   "source": [
    "for  n in range(1,21):\n",
    "  if(n%2 != 0):\n",
    "    print(f\"{n} es un numero impar\")\n",
    "  else:\n",
    "    print(f\"{n} es un numero par\")"
   ]
  },
  {
   "cell_type": "markdown",
   "metadata": {},
   "source": [
    "4) En un ciclo for mostrar para los valores entre 0 y 5 el resultado de elevarlo a la potencia igual a 3"
   ]
  },
  {
   "cell_type": "code",
   "execution_count": null,
   "metadata": {},
   "outputs": [
    {
     "name": "stdout",
     "output_type": "stream",
     "text": [
      "Para el valor 0 su potencia de 3 es 0\n",
      "Para el valor 1 su potencia de 3 es 1\n",
      "Para el valor 2 su potencia de 3 es 8\n",
      "Para el valor 3 su potencia de 3 es 27\n",
      "Para el valor 4 su potencia de 3 es 64\n",
      "Para el valor 5 su potencia de 3 es 125\n"
     ]
    }
   ],
   "source": [
    "for n in range(0,6):\n",
    "  varx = n ** 3\n",
    "  print(f\"Para el valor {n} su potencia de 3 es {varx}\")\n"
   ]
  },
  {
   "cell_type": "markdown",
   "metadata": {},
   "source": [
    "5) Crear una variable que contenga un número entero y realizar un ciclo for la misma cantidad de ciclos"
   ]
  },
  {
   "cell_type": "code",
   "execution_count": null,
   "metadata": {},
   "outputs": [
    {
     "name": "stdout",
     "output_type": "stream",
     "text": [
      "1\n",
      "2\n",
      "3\n",
      "4\n",
      "5\n"
     ]
    }
   ],
   "source": [
    "n = 5\n",
    "j = 1\n",
    "while j <= n:\n",
    "  print(j)\n",
    "  j += 1"
   ]
  },
  {
   "cell_type": "code",
   "execution_count": null,
   "metadata": {},
   "outputs": [
    {
     "name": "stdout",
     "output_type": "stream",
     "text": [
      "1\n",
      "2\n",
      "3\n",
      "4\n",
      "5\n"
     ]
    }
   ],
   "source": [
    "n = 5\n",
    "j = 1\n",
    "for i in range(j, n + 1):\n",
    "    print (i)\n",
    "    continue"
   ]
  },
  {
   "cell_type": "markdown",
   "metadata": {},
   "source": [
    "6) Utilizar un ciclo while para realizar el factorial de un número guardado en una variable, sólo si la variable contiene un número entero mayor a 0"
   ]
  },
  {
   "cell_type": "code",
   "execution_count": null,
   "metadata": {},
   "outputs": [
    {
     "name": "stdout",
     "output_type": "stream",
     "text": [
      "El factorial es de 5 es 120\n"
     ]
    }
   ],
   "source": [
    "fi = 5\n",
    "f = fi\n",
    "n = 1\n",
    "\n",
    "if (f > 0):\n",
    "  while f > 1:\n",
    "    n *= f \n",
    "    f -= 1\n",
    "print(f\"El factorial es de {fi} es {n}\")"
   ]
  },
  {
   "cell_type": "markdown",
   "metadata": {},
   "source": [
    "7) Crear un ciclo for dentro de un ciclo while"
   ]
  },
  {
   "cell_type": "code",
   "execution_count": null,
   "metadata": {},
   "outputs": [
    {
     "name": "stdout",
     "output_type": "stream",
     "text": [
      "Ciclo while nro 1\n",
      "Ciclo for nro 1\n",
      "Ciclo while nro 1\n",
      "Ciclo for nro 2\n",
      "Ciclo while nro 2\n",
      "Ciclo for nro 1\n",
      "Ciclo while nro 2\n",
      "Ciclo for nro 2\n",
      "Ciclo while nro 3\n",
      "Ciclo for nro 1\n",
      "Ciclo while nro 3\n",
      "Ciclo for nro 2\n"
     ]
    }
   ],
   "source": [
    "n=1\n",
    "while(n < 4):\n",
    "  for i in range(1,3):\n",
    "    print('Ciclo while nro ' + str(n))\n",
    "    print('Ciclo for nro ' + str(i)) \n",
    "  n = n +  1"
   ]
  },
  {
   "cell_type": "markdown",
   "metadata": {},
   "source": [
    "8) Crear un ciclo while dentro de un ciclo for"
   ]
  },
  {
   "cell_type": "code",
   "execution_count": 57,
   "metadata": {},
   "outputs": [
    {
     "name": "stdout",
     "output_type": "stream",
     "text": [
      "ciclo For 1 con while 1\n",
      "ciclo For 1 con while 2\n",
      "ciclo For 1 con while 3\n",
      "ciclo For 2 con while 1\n",
      "ciclo For 2 con while 2\n",
      "ciclo For 2 con while 3\n"
     ]
    }
   ],
   "source": [
    "g = 1\n",
    "for z in range (1 , 3):  \n",
    "  while (g < 4):\n",
    "    print (f\"ciclo For {z} con while {g}\")\n",
    "    g = g + 1\n",
    "  g = 1\n",
    "  "
   ]
  },
  {
   "cell_type": "markdown",
   "metadata": {},
   "source": [
    "9) Imprimir los números primos existentes entre 0 y 30"
   ]
  },
  {
   "cell_type": "code",
   "execution_count": 65,
   "metadata": {},
   "outputs": [
    {
     "name": "stdout",
     "output_type": "stream",
     "text": [
      "El numero 2 es primo\n",
      "El numero 3 es primo\n",
      "El numero 5 es primo\n",
      "El numero 7 es primo\n",
      "El numero 11 es primo\n",
      "El numero 13 es primo\n",
      "El numero 17 es primo\n",
      "El numero 19 es primo\n",
      "El numero 23 es primo\n",
      "El numero 29 es primo\n"
     ]
    }
   ],
   "source": [
    "max = 30\n",
    "for n in range(2,(max+1)):\n",
    "    primo = True\n",
    "    i = 2\n",
    "    while (i < n):\n",
    "        if(n % i == 0):\n",
    "            primo = False\n",
    "            break\n",
    "        i = i + 1\n",
    "    if(primo):\n",
    "        print(f\"El numero {n} es primo\")\n"
   ]
  },
  {
   "cell_type": "markdown",
   "metadata": {},
   "source": [
    "10) ¿Se puede mejorar el proceso del punto 9? Utilizar las sentencias break y/ó continue para tal fin"
   ]
  },
  {
   "cell_type": "code",
   "execution_count": 74,
   "metadata": {},
   "outputs": [
    {
     "name": "stdout",
     "output_type": "stream",
     "text": [
      "2\n",
      "3\n",
      "5\n",
      "7\n",
      "11\n",
      "13\n",
      "17\n",
      "19\n",
      "23\n",
      "29\n",
      "Cantidad de ciclos 116\n"
     ]
    }
   ],
   "source": [
    "max = 30\n",
    "ciclo = 0\n",
    "for n in range(2,(max+1)):\n",
    "    primo = True\n",
    "    i = 2\n",
    "    while (i < n):\n",
    "        if(n % i == 0):\n",
    "            primo = False\n",
    "            break\n",
    "        ciclo += 1\n",
    "        i = i + 1\n",
    "    if(primo):\n",
    "        print(n)\n",
    "print (f\"Cantidad de ciclos {ciclo}\")"
   ]
  },
  {
   "cell_type": "markdown",
   "metadata": {},
   "source": [
    "11) En los puntos 9 y 10, se diseño un código que encuentra números primos y además se lo optimizó. ¿Es posible saber en qué medida se optimizó?"
   ]
  },
  {
   "cell_type": "code",
   "execution_count": 84,
   "metadata": {},
   "outputs": [
    {
     "name": "stdout",
     "output_type": "stream",
     "text": [
      "Cantidad de ciclos en break 316\n",
      "Cantidad de ciclos normal 1176\n",
      "El porcentaje de mejora es 73.13%\n"
     ]
    }
   ],
   "source": [
    "max = 50\n",
    "ciclo = 0\n",
    "ciclo_break = 0\n",
    "for n in range(2,(max+1)):\n",
    "    primo = True\n",
    "    i = 2\n",
    "    while (i < n):\n",
    "        if(n % i == 0):\n",
    "            primo = False\n",
    "            break\n",
    "        ciclo_break += 1\n",
    "        i = i + 1\n",
    "\n",
    "print (f\"Cantidad de ciclos en break {ciclo_break}\")\n",
    "\n",
    "for n in range(2,(max+1)):\n",
    "    primo = True\n",
    "    i = 2\n",
    "    while (i < n):\n",
    "        if(n % i == 0):\n",
    "            primo = False\n",
    "            \n",
    "        ciclo += 1\n",
    "        i = i + 1\n",
    "    \n",
    "print (f\"Cantidad de ciclos normal {ciclo}\")\n",
    "\n",
    "porc_mejora = (1 - ciclo_break/ciclo) * 100\n",
    "porc_mejora = round(porc_mejora,2)\n",
    "print(f\"El porcentaje de mejora es {porc_mejora}%\")\n",
    "\n"
   ]
  },
  {
   "cell_type": "markdown",
   "metadata": {},
   "source": [
    "12) Si la cantidad de números que se evalúa es mayor a treinta, esa optimización crece?"
   ]
  },
  {
   "cell_type": "code",
   "execution_count": null,
   "metadata": {},
   "outputs": [],
   "source": [
    "#si"
   ]
  },
  {
   "cell_type": "code",
   "execution_count": null,
   "metadata": {},
   "outputs": [],
   "source": []
  },
  {
   "cell_type": "markdown",
   "metadata": {},
   "source": [
    "13) Aplicando continue, armar un ciclo while que solo imprima los valores divisibles por 12, dentro del rango de números de 100 a 300"
   ]
  },
  {
   "cell_type": "code",
   "execution_count": 3,
   "metadata": {},
   "outputs": [
    {
     "name": "stdout",
     "output_type": "stream",
     "text": [
      "108 es divisible entre 12\n",
      "120 es divisible entre 12\n",
      "132 es divisible entre 12\n",
      "144 es divisible entre 12\n",
      "156 es divisible entre 12\n",
      "168 es divisible entre 12\n",
      "180 es divisible entre 12\n",
      "192 es divisible entre 12\n",
      "204 es divisible entre 12\n",
      "216 es divisible entre 12\n",
      "228 es divisible entre 12\n",
      "240 es divisible entre 12\n",
      "252 es divisible entre 12\n",
      "264 es divisible entre 12\n",
      "276 es divisible entre 12\n",
      "288 es divisible entre 12\n",
      "300 es divisible entre 12\n",
      "Contador = 185\n"
     ]
    }
   ],
   "source": [
    "n1 = 100\n",
    "n2 = 300\n",
    "count = 0\n",
    "while (n1 <= n2 ):\n",
    "    count += 1\n",
    "    if(n1 % 12 == 0):\n",
    "        print(f\"{n1} es divisible entre 12\")\n",
    "        n1 += 1\n",
    "        \n",
    "    n1 += 1\n",
    "\n",
    "print(f\"Contador = {count}\")"
   ]
  },
  {
   "cell_type": "markdown",
   "metadata": {},
   "source": [
    "14) Utilizar la función **input()** que permite hacer ingresos por teclado, para encontrar números primos y dar la opción al usario de buscar el siguiente"
   ]
  },
  {
   "cell_type": "code",
   "execution_count": null,
   "metadata": {},
   "outputs": [],
   "source": [
    "max_ciclo = input()\n",
    "\n",
    "ciclo = 0\n",
    "for n in range(2,(max_ciclo+1)):\n",
    "    primo = True\n",
    "    i = 2\n",
    "    while (i < n):\n",
    "        if(n % i == 0):\n",
    "            primo = False\n",
    "            break\n",
    "        ciclo += 1\n",
    "        i = i + 1\n",
    "    if(primo):\n",
    "        print(n)"
   ]
  },
  {
   "cell_type": "markdown",
   "metadata": {},
   "source": [
    "15) Crear un ciclo while que encuentre dentro del rango de 100 a 300 el primer número divisible por 3 y además múltiplo de 6"
   ]
  },
  {
   "cell_type": "code",
   "execution_count": null,
   "metadata": {},
   "outputs": [
    {
     "name": "stdout",
     "output_type": "stream",
     "text": [
      "El número es:  102\n"
     ]
    }
   ],
   "source": []
  }
 ],
 "metadata": {
  "kernelspec": {
   "display_name": "Python 3.10.8 64-bit",
   "language": "python",
   "name": "python3"
  },
  "language_info": {
   "codemirror_mode": {
    "name": "ipython",
    "version": 3
   },
   "file_extension": ".py",
   "mimetype": "text/x-python",
   "name": "python",
   "nbconvert_exporter": "python",
   "pygments_lexer": "ipython3",
   "version": "3.10.8"
  },
  "vscode": {
   "interpreter": {
    "hash": "964b1fa5364468aa142ca826e1bab4686480a96d9d38c308c84d42c2ef7b8b78"
   }
  }
 },
 "nbformat": 4,
 "nbformat_minor": 4
}
