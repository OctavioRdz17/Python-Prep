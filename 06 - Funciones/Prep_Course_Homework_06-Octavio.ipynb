{
 "cells": [
  {
   "cell_type": "markdown",
   "metadata": {},
   "source": [
    "## Funciones"
   ]
  },
  {
   "cell_type": "markdown",
   "metadata": {},
   "source": [
    "1) Crear una función que reciba un número como parámetro y devuelva True si es primo y False si no lo es"
   ]
  },
  {
   "cell_type": "code",
   "execution_count": 1,
   "metadata": {},
   "outputs": [],
   "source": []
  },
  {
   "cell_type": "code",
   "execution_count": 19,
   "metadata": {},
   "outputs": [
    {
     "data": {
      "text/plain": [
       "True"
      ]
     },
     "execution_count": 19,
     "metadata": {},
     "output_type": "execute_result"
    }
   ],
   "source": [
    "def ex_primo(a):\n",
    "    es_primo = True\n",
    "    if a == 1: return es_primo\n",
    "    for n in range(2,a):\n",
    "        if(a % n == 0):es_primo = False\n",
    "    return es_primo\n",
    "\n",
    "ex_primo(1)\n"
   ]
  },
  {
   "cell_type": "markdown",
   "metadata": {},
   "source": [
    "2) Utilizando la función del punto 1, realizar otra función que reciba de parámetro una lista de números y devuelva sólo aquellos que son primos en otra lista"
   ]
  },
  {
   "cell_type": "code",
   "execution_count": 22,
   "metadata": {},
   "outputs": [
    {
     "name": "stdout",
     "output_type": "stream",
     "text": [
      "1\n",
      "5\n",
      "17\n",
      "19\n"
     ]
    }
   ],
   "source": [
    "def primos_quien(p):\n",
    "    \n",
    "    for e in p:\n",
    "        if(type(e) != int):continue\n",
    "        if(ex_primo(e) == True):\n",
    "            print(e)\n",
    "lis1 = [1,5,34,63,15,'a',143,17,19,21]\n",
    "primos_quien(lis1)"
   ]
  },
  {
   "cell_type": "code",
   "execution_count": 26,
   "metadata": {},
   "outputs": [
    {
     "data": {
      "text/plain": [
       "[1, 2, 3, 5, 7, 11, 13, 17, 19]"
      ]
     },
     "execution_count": 26,
     "metadata": {},
     "output_type": "execute_result"
    }
   ],
   "source": []
  },
  {
   "cell_type": "markdown",
   "metadata": {},
   "source": [
    "3) Crear una función que al recibir una lista de números, devuelva el que más se repite y cuántas veces lo hace. Si hay más de un \"más repetido\", que devuelva cualquiera"
   ]
  },
  {
   "cell_type": "code",
   "execution_count": 48,
   "metadata": {},
   "outputs": [
    {
     "name": "stdout",
     "output_type": "stream",
     "text": [
      "El numero que mas se repite es el 'a' con un conteo de 6 veces\n"
     ]
    }
   ],
   "source": [
    "lis3 = [2,2,5,6,8,10,'a','a','a','a','a','a',14,14,14,14,14,22,5,6,4,11,9,5]\n",
    "def valor_modal(lista_P):\n",
    "    dicc_conteo = {}\n",
    "    for n in lista_P:\n",
    "        if (len(dicc_conteo) == 0):\n",
    "            dicc_conteo[n] = 1\n",
    "            continue\n",
    "        if n in dicc_conteo:\n",
    "             dicc_conteo[n] += 1 \n",
    "        else:\n",
    "            dicc_conteo[n] = 1\n",
    "    moda = None \n",
    "    maximo = 0\n",
    "    for element in dicc_conteo:\n",
    "        if dicc_conteo[element] > maximo:\n",
    "            moda = element\n",
    "            maximo = dicc_conteo[element]\n",
    "    return moda, maximo\n",
    "\n",
    "moda, maximo = valor_modal(lis3)\n",
    "print (f\"El numero que mas se repite es el '{moda}' con un conteo de {maximo} veces\")\n"
   ]
  },
  {
   "cell_type": "markdown",
   "metadata": {},
   "source": [
    "4) A la función del punto 3, agregar un parámetro más, que permita elegir si se requiere el menor o el mayor de los mas repetidos."
   ]
  },
  {
   "cell_type": "code",
   "execution_count": 54,
   "metadata": {},
   "outputs": [
    {
     "name": "stdout",
     "output_type": "stream",
     "text": [
      "El numero que mas se repite es el '8' con un conteo de 1 veces\n"
     ]
    }
   ],
   "source": [
    "lis3 = [2,2,5,6,8,10,'a','a','a','a','a','a',14,14,14,14,14,22,5,6,4,11,9,5]\n",
    "def valor_modal(lista_P, maxi = True):\n",
    "    '''\n",
    "    Esta función devuelve el valor modal y recibe de parámetros dos valores:\n",
    "    1-Una lista de números\n",
    "    2-Verdadero (por defecto) por si se requiere el maximo de los más repetidos, o Falso si se requiere el minimo\n",
    "    '''\n",
    "    dicc_conteo = {}\n",
    "    for n in lista_P:\n",
    "        if (len(dicc_conteo) == 0):\n",
    "            dicc_conteo[n] = 1\n",
    "            continue\n",
    "        if n in dicc_conteo:\n",
    "             dicc_conteo[n] += 1 \n",
    "        else:\n",
    "            dicc_conteo[n] = 1\n",
    "    moda = None \n",
    "    maximo = 0\n",
    "    minimo = 999999\n",
    "    if(maxi == True):\n",
    "        for element in dicc_conteo:\n",
    "            if dicc_conteo[element] > maximo:\n",
    "                moda = element\n",
    "                maximo = dicc_conteo[element]\n",
    "        return moda, maximo\n",
    "    else:\n",
    "        for element in dicc_conteo:\n",
    "            if dicc_conteo[element] < minimo:\n",
    "                moda = element\n",
    "                minimo = dicc_conteo[element]\n",
    "        return moda, minimo\n",
    "moda, maximo = valor_modal(lis3,False)\n",
    "print (f\"El numero que mas se repite es el '{moda}' con un conteo de {maximo} veces\")\n"
   ]
  },
  {
   "cell_type": "code",
   "execution_count": 47,
   "metadata": {},
   "outputs": [
    {
     "name": "stdout",
     "output_type": "stream",
     "text": [
      "El valor modal es 10 y se repite 3 veces.\n"
     ]
    }
   ],
   "source": []
  },
  {
   "cell_type": "markdown",
   "metadata": {},
   "source": [
    "5) Crear una función que convierta entre grados Celsius, Farenheit y Kelvin<br>\n",
    "Fórmula 1\t: (°C × 9/5) + 32 = °F<br>\n",
    "Fórmula 2\t: °C + 273.15 = °K<br>\n",
    "Debe recibir 3 parámetros: el valor, la medida de orígen y la medida de destino\n"
   ]
  },
  {
   "cell_type": "code",
   "execution_count": 1,
   "metadata": {},
   "outputs": [
    {
     "name": "stdout",
     "output_type": "stream",
     "text": [
      "68.0\n"
     ]
    }
   ],
   "source": [
    "def temperatura(valor,origen = 'celsius',destino = 'farenheit'):\n",
    "    valor_destino = 0\n",
    "    if(origen == \"celsius\"):\n",
    "        if destino == \"celsius\":\n",
    "            valor_destino = valor\n",
    "        elif destino == \"farenheit\":\n",
    "            valor_destino = (valor *(9/5))+32\n",
    "        elif destino == \"kelvin\":\n",
    "            valor_destino = valor + 273.15\n",
    "        else:\n",
    "            print('Parámetro de Destino incorrecto')\n",
    "    elif(origen == \"farenheit\"):\n",
    "        if destino == \"farenheit\":\n",
    "            valor_destino = valor\n",
    "        elif destino == \"celsius\":\n",
    "            valor_destino = (valor - 32) * 5 / 9\n",
    "        elif destino == \"kelvin\":\n",
    "            valor_destino = ((valor - 32) * 5 / 9) + 273.15\n",
    "        else:\n",
    "            print('Parámetro de Destino incorrecto')\n",
    "    elif (origen == 'kelvin'):\n",
    "        if (destino == 'celsius'):\n",
    "            valor_destino = valor - 273.15\n",
    "        elif (destino == 'farenheit'):\n",
    "            valor_destino = ((valor - 273.15) * 9 / 5) + 32\n",
    "        elif (destino == 'kelvin'):\n",
    "            valor_destino = valor\n",
    "        else:\n",
    "            print('Parámetro de Destino incorrecto')\n",
    "    else:\n",
    "        print('Parámetro de Origen incorrecto')\n",
    "    return valor_destino\n",
    "    \n",
    "        \n",
    "print(temperatura(20))"
   ]
  },
  {
   "cell_type": "code",
   "execution_count": 59,
   "metadata": {},
   "outputs": [
    {
     "name": "stdout",
     "output_type": "stream",
     "text": [
      "1 grado Celsius a Celsius: 1\n",
      "1 grado Celsius a Kelvin: 274.15\n",
      "1 grado Celsius a Farenheit: 33.8\n",
      "1 grado Kelvin a Celsius: -272.15\n",
      "1 grado Kelvin a Kelvin: 1\n",
      "1 grado Kelvin a Farenheit: -457.87\n",
      "1 grado Farenheit a Celsius: -17.22222222222222\n",
      "1 grado Farenheit a Kelvin: 255.92777777777775\n",
      "1 grado Farenheit a Farenheit: 1\n"
     ]
    }
   ],
   "source": []
  },
  {
   "cell_type": "markdown",
   "metadata": {},
   "source": [
    "6) Iterando una lista con los tres valores posibles de temperatura que recibe la función del punto 5, hacer un print para cada combinación de los mismos:"
   ]
  },
  {
   "cell_type": "code",
   "execution_count": 2,
   "metadata": {},
   "outputs": [
    {
     "name": "stdout",
     "output_type": "stream",
     "text": [
      "1 grado celsius, es 1 en celsius\n",
      "1 grado celsius, es 274.15 en kelvin\n",
      "1 grado celsius, es 33.8 en farenheit\n",
      "1 grado kelvin, es -272.15 en celsius\n",
      "1 grado kelvin, es 1 en kelvin\n",
      "1 grado kelvin, es -457.87 en farenheit\n",
      "1 grado farenheit, es -17.22222222222222 en celsius\n",
      "1 grado farenheit, es 255.92777777777775 en kelvin\n",
      "1 grado farenheit, es 1 en farenheit\n"
     ]
    }
   ],
   "source": [
    "metricas = ['celsius','kelvin','farenheit']\n",
    "\n",
    "for o in metricas:\n",
    "    for d in metricas:\n",
    "        o_index = metricas.index(o)\n",
    "        d_index = metricas.index(d)\n",
    "        print(f\"1 grado {metricas[o_index]}, es {temperatura(1,o,d)} en {metricas[d_index]}\")"
   ]
  },
  {
   "cell_type": "markdown",
   "metadata": {},
   "source": [
    "7) Armar una función que devuelva el factorial de un número. Tener en cuenta que el usuario puede equivocarse y enviar de parámetro un número no entero o negativo"
   ]
  },
  {
   "cell_type": "code",
   "execution_count": 11,
   "metadata": {},
   "outputs": [
    {
     "name": "stdout",
     "output_type": "stream",
     "text": [
      "120\n",
      "Debe ser un numero entero\n",
      "Debe ser un numero entero\n",
      "Debe ser un numero entero\n",
      "Debe ser un numero positivo\n"
     ]
    }
   ],
   "source": [
    "def factorial(numero):\n",
    "    '''\n",
    "    Devuelve el factorial\n",
    "    '''\n",
    "    if(type(numero) != int):\n",
    "        return \"Debe ser un numero entero\"\n",
    "    if(numero < 0):\n",
    "        return \"Debe ser un numero positivo\"\n",
    "    if (numero > 1):\n",
    "        numero = numero * factorial(numero - 1)\n",
    "    return numero\n",
    "print(factorial(5))\n",
    "print(factorial(5.2))\n",
    "print(factorial(5.0))\n",
    "print(factorial('2'))\n",
    "print(factorial(-3))"
   ]
  }
 ],
 "metadata": {
  "kernelspec": {
   "display_name": "Python 3.10.8 64-bit",
   "language": "python",
   "name": "python3"
  },
  "language_info": {
   "codemirror_mode": {
    "name": "ipython",
    "version": 3
   },
   "file_extension": ".py",
   "mimetype": "text/x-python",
   "name": "python",
   "nbconvert_exporter": "python",
   "pygments_lexer": "ipython3",
   "version": "3.10.8"
  },
  "vscode": {
   "interpreter": {
    "hash": "964b1fa5364468aa142ca826e1bab4686480a96d9d38c308c84d42c2ef7b8b78"
   }
  }
 },
 "nbformat": 4,
 "nbformat_minor": 4
}
